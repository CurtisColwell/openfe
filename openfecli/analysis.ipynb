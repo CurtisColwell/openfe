{
 "cells": [
  {
   "cell_type": "code",
   "execution_count": 1,
   "metadata": {},
   "outputs": [],
   "source": [
    "import json"
   ]
  },
  {
   "cell_type": "code",
   "execution_count": 4,
   "metadata": {},
   "outputs": [],
   "source": [
    "def read_json(fpath:str):\n",
    "    with open(fpath) as f:\n",
    "        return json.load(f)"
   ]
  },
  {
   "cell_type": "code",
   "execution_count": 17,
   "metadata": {},
   "outputs": [],
   "source": [
    "prefix=\"/Users/atravitz/work/benchmarking/jacs_cdk2/results_alchemicalNetwork//transformations_0/\"\n",
    "demo_prefix=\"/Users/atravitz/work/sandbox/cli_testing/\"\n",
    "\n",
    "result_17_1h1r = read_json(f\"{prefix}/easy_rbfe_17_solvent_1h1r_solvent.json\")\n"
   ]
  },
  {
   "cell_type": "code",
   "execution_count": 24,
   "metadata": {},
   "outputs": [
    {
     "data": {
      "text/plain": [
       "({'magnitude': -3.4846641978726747,\n",
       "  'unit': 'kilocalorie_per_mole',\n",
       "  ':is_custom:': True,\n",
       "  'pint_unit_registry': 'openff_units'},\n",
       " {'magnitude': 0.0059350035280880085,\n",
       "  'unit': 'kilocalorie_per_mole',\n",
       "  ':is_custom:': True,\n",
       "  'pint_unit_registry': 'openff_units'})"
      ]
     },
     "execution_count": 24,
     "metadata": {},
     "output_type": "execute_result"
    }
   ],
   "source": [
    "result_17_1h1r['estimate'], result_17_1h1r['uncertainty']"
   ]
  },
  {
   "cell_type": "code",
   "execution_count": 30,
   "metadata": {},
   "outputs": [],
   "source": [
    "list_of_pur = list(result_17_1h1r['protocol_result']['data'].values())"
   ]
  },
  {
   "cell_type": "code",
   "execution_count": 57,
   "metadata": {},
   "outputs": [
    {
     "data": {
      "text/plain": [
       "dict_keys(['repeat_id', 'generation', 'nc', 'last_checkpoint', 'unit_estimate', 'unit_estimate_error', 'unit_mbar_overlap', 'forward_and_reverse_energies', 'production_iterations', 'equilibration_iterations', 'replica_exchange_statistics', 'structural_analysis'])"
      ]
     },
     "execution_count": 57,
     "metadata": {},
     "output_type": "execute_result"
    }
   ],
   "source": [
    "list_of_pur[0][0]['outputs'].keys()"
   ]
  },
  {
   "cell_type": "code",
   "execution_count": 50,
   "metadata": {},
   "outputs": [
    {
     "name": "stdout",
     "output_type": "stream",
     "text": [
      "-3.47728712364881 +/1 0.023428047571191473\n",
      "-3.4918197916958995 +/1 0.02254968866918898\n",
      "-3.484885678273314 +/1 0.023185324410839887\n"
     ]
    }
   ],
   "source": [
    "for pu in list_of_pur:\n",
    "    print(f\"{pu[0]['outputs']['unit_estimate']['magnitude']}\",\n",
    "          f\"+/1 {pu[0]['outputs']['unit_estimate_error']['magnitude']}\")"
   ]
  },
  {
   "cell_type": "code",
   "execution_count": 52,
   "metadata": {},
   "outputs": [
    {
     "name": "stdout",
     "output_type": "stream",
     "text": [
      "{'magnitude': -3.47728712364881, 'unit': 'kilocalorie_per_mole', ':is_custom:': True, 'pint_unit_registry': 'openff_units'} +/1 {'magnitude': 0.023428047571191473, 'unit': 'kilocalorie_per_mole', ':is_custom:': True, 'pint_unit_registry': 'openff_units'}\n",
      "{'magnitude': -3.4918197916958995, 'unit': 'kilocalorie_per_mole', ':is_custom:': True, 'pint_unit_registry': 'openff_units'} +/1 {'magnitude': 0.02254968866918898, 'unit': 'kilocalorie_per_mole', ':is_custom:': True, 'pint_unit_registry': 'openff_units'}\n",
      "{'magnitude': -3.484885678273314, 'unit': 'kilocalorie_per_mole', ':is_custom:': True, 'pint_unit_registry': 'openff_units'} +/1 {'magnitude': 0.023185324410839887, 'unit': 'kilocalorie_per_mole', ':is_custom:': True, 'pint_unit_registry': 'openff_units'}\n"
     ]
    }
   ],
   "source": [
    "for pu in list_of_pur:\n",
    "    print(f\"{pu[0]['outputs']['unit_estimate']}\",\n",
    "          f\"+/1 {pu[0]['outputs']['unit_estimate_error']}\")"
   ]
  },
  {
   "cell_type": "code",
   "execution_count": null,
   "metadata": {},
   "outputs": [],
   "source": []
  }
 ],
 "metadata": {
  "kernelspec": {
   "display_name": "Python 3",
   "language": "python",
   "name": "python3"
  },
  "language_info": {
   "codemirror_mode": {
    "name": "ipython",
    "version": 3
   },
   "file_extension": ".py",
   "mimetype": "text/x-python",
   "name": "python",
   "nbconvert_exporter": "python",
   "pygments_lexer": "ipython3",
   "version": "3.12.7"
  }
 },
 "nbformat": 4,
 "nbformat_minor": 2
}
